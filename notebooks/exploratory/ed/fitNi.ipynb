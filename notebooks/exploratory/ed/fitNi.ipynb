{
 "cells": [
  {
   "cell_type": "code",
   "execution_count": 35,
   "metadata": {},
   "outputs": [],
   "source": [
    "from __future__ import print_function\n",
    "\n",
    "# We'll need numpy and matplotlib for plotting our results\n",
    "import numpy as np\n",
    "import matplotlib.pyplot as plt\n",
    "\n",
    "# A least squares fitting algorithm from scipy\n",
    "from scipy.optimize.minpack import leastsq\n",
    "\n",
    "# DiffPy-CMI modules for building a fitting recipe\n",
    "from diffpy.Structure import loadStructure\n",
    "from diffpy.srfit.pdf import PDFContribution\n",
    "from diffpy.srfit.fitbase import FitRecipe, FitResults"
   ]
  },
  {
   "cell_type": "code",
   "execution_count": 61,
   "metadata": {},
   "outputs": [
    {
     "name": "stdout",
     "output_type": "stream",
     "text": [
      "Space group parameters are: a, Uiso_0, Uiso_4\n",
      "\n"
     ]
    },
    {
     "data": {
      "text/plain": [
       "<diffpy.srfit.fitbase.parameter.ParameterProxy at 0x71f1ad574cd0>"
      ]
     },
     "execution_count": 61,
     "metadata": {},
     "output_type": "execute_result"
    }
   ],
   "source": [
    "# Files containing our experimental data and structure file\n",
    "dataFile = \"/home/ABTLUS/victor.secco/data_processing/ED/CdSe_ePDF/W1/Jun_2024/Gr/gr_PCA_CdSe_W1.grobs\"\n",
    "structureFile = \"/home/ABTLUS/victor.secco/data_processing/Banco de Dados Cristalográficos/CdSe_Zinc_Blende_CollCode53954.cif\"\n",
    "spaceGroup = \"F -4 3 m\"\n",
    "\n",
    "# The first thing to construct is a contribution. Since this is a simple\n",
    "# example, the contribution will simply contain our PDF data and an associated\n",
    "# structure file. We'll give it the name \"nickel\"\n",
    "niPDF = PDFContribution(\"CdSe\")\n",
    "\n",
    "# Load the data and set the r-range over which we'll fit\n",
    "niPDF.loadData(dataFile)\n",
    "niPDF.setCalculationRange(xmin=1, xmax=20, dx=0.01)\n",
    "\n",
    "# Add the structure from our cif file to the contribution\n",
    "cdseStructure = loadStructure(structureFile)\n",
    "niPDF.addStructure(\"CdSe\", cdseStructure)\n",
    "\n",
    "# The FitRecipe does the work of calculating the PDF with the fit variable\n",
    "# that we give it.\n",
    "niFit = FitRecipe()\n",
    "\n",
    "# give the PDFContribution to the FitRecipe\n",
    "niFit.addContribution(niPDF)\n",
    "\n",
    "# Configure the fit variables and give them to the recipe.  We can use the\n",
    "# srfit function constrainAsSpaceGroup to constrain the lattice and ADP\n",
    "# parameters according to the Fm-3m space group.\n",
    "from diffpy.srfit.structure import constrainAsSpaceGroup\n",
    "spaceGroupParams = constrainAsSpaceGroup(niPDF.CdSe.phase, spaceGroup)\n",
    "\n",
    "print(\"Space group parameters are:\",\n",
    "      ', '.join(p.name for p in spaceGroupParams))\n",
    "print()\n",
    "# We can now cycle through the parameters and activate them in the recipe as\n",
    "# variables\n",
    "for par in spaceGroupParams.latpars:\n",
    "    niFit.addVar(par)\n",
    "# Set initial value for the ADP parameters, because CIF had no ADP data.\n",
    "for par in spaceGroupParams.adppars:\n",
    "    niFit.addVar(par, value=0.005)\n",
    "\n",
    "niFit.addVar(niPDF.scale, 1)\n",
    "niFit.addVar(niPDF.CdSe.delta2, 5)\n",
    "\n",
    "# We fix Qdamp based on prior information about our beamline.\n",
    "niFit.addVar(niPDF.qdamp, 0.03, fixed=True)"
   ]
  },
  {
   "cell_type": "code",
   "execution_count": 66,
   "metadata": {},
   "outputs": [
    {
     "name": "stdout",
     "output_type": "stream",
     "text": [
      "  variables: ['a', 'Uiso_0', 'Uiso_4', 'scale', 'delta2']\n",
      "  initial values: [6.04443272 0.759819   0.19938684 0.84345033 6.76544945]\n",
      "  final values: [6.04443239 0.75981914 0.19938684 0.84345026 6.765449  ]\n",
      "\n",
      "FIT RESULTS\n",
      "\n",
      "Some quantities invalid due to missing profile uncertainty\n",
      "Overall (Chi2 and Reduced Chi2 invalid)\n",
      "------------------------------------------------------------------------------\n",
      "Residual       652.95031645\n",
      "Contributions  652.95031645\n",
      "Restraints     0.00000000\n",
      "Chi2           652.95031645\n",
      "Reduced Chi2   0.34438308\n",
      "Rw             1.00000000\n",
      "\n",
      "Variables (Uncertainties invalid)\n",
      "------------------------------------------------------------------------------\n",
      "Uiso_0  7.59819145e-01 +/- nan\n",
      "Uiso_4  1.99386844e-01 +/- nan\n",
      "a       6.04443239e+00 +/- nan\n",
      "delta2  6.76544900e+00 +/- nan\n",
      "scale   8.43450264e-01 +/- nan\n",
      "\n",
      "Fixed Variables\n",
      "------------------------------------------------------------------------------\n",
      "qdamp  3.00000000e-02\n",
      "\n",
      "Variable Correlations greater than 25% (Correlations invalid)\n",
      "------------------------------------------------------------------------------\n",
      "No correlations greater than 25%\n",
      "\n"
     ]
    }
   ],
   "source": [
    "# As usual, we add variables for the overall scale of the PDF and a delta2\n",
    "# parameter for correlated motion of neighboring atoms.\n",
    "niPDF.setScatteringType(\"E\")\n",
    "\n",
    "# Turn off printout of iteration number.\n",
    "niFit.clearFitHooks()\n",
    "\n",
    "print(\"  variables:\", niFit.names)\n",
    "print(\"  initial values:\", niFit.values)\n",
    "leastsq(niFit.residual, niFit.values)\n",
    "print(\"  final values:\", niFit.values)\n",
    "print()\n",
    "\n",
    "# Obtain and display the fit results.\n",
    "niResults = FitResults(niFit)\n",
    "print(\"FIT RESULTS\\n\")\n",
    "print(niResults)\n",
    "\n",
    "# Plot the observed and refined PDF.\n",
    "\n",
    "# Get the experimental data from the recipe\n",
    "r = niFit.CdSe.profile.x\n",
    "gobs = niFit.CdSe.profile.y\n",
    "\n",
    "# Get the calculated PDF and compute the difference between the calculated and\n",
    "# measured PDF\n",
    "gcalc = niFit.CdSe.evaluate()\n",
    "baseline = 1.1 * gobs.min()\n",
    "gdiff = gobs - gcalc\n",
    "\n",
    "# Plot!"
   ]
  },
  {
   "cell_type": "code",
   "execution_count": 67,
   "metadata": {},
   "outputs": [
    {
     "data": {
      "image/png": "[encoded data removed]",
      "text/plain": [
       "<Figure size 640x480 with 1 Axes>"
      ]
     },
     "metadata": {},
     "output_type": "display_data"
    }
   ],
   "source": [
    "plt.figure()\n",
    "#plt.plot(r, gobs, 'bo', label=\"G(r) data\",\n",
    "#         markerfacecolor='none', markeredgecolor='b')\n",
    "plt.plot(r, gcalc, 'r-', label=\"G(r) fit\")\n",
    "#plt.plot(r, gdiff + baseline, 'g-', label=\"G(r) diff\")\n",
    "plt.plot(r, np.zeros_like(r) + baseline, 'k:')\n",
    "plt.xlabel(r\"r ($\\AA$)\")\n",
    "plt.ylabel(r\"G ($\\AA^{-2}$)\")\n",
    "plt.legend()\n",
    "\n",
    "plt.show()"
   ]
  },
  {
   "cell_type": "code",
   "execution_count": null,
   "metadata": {},
   "outputs": [],
   "source": [
    "from diffpy.srreal.scatteringfactortable import SFTXray\n",
    "from diffpy.srreal.pdfcalculator import PDFCalculator\n",
    "import sys\n",
    "sys.path.append('/home/ABTLUS/victor.secco/data_processing')\n",
    "from mypackages.electron_scattering_table import SFTElectron\n",
    "\n",
    "\n",
    "pcx = PDFCalculator(qmax=16.88, rmin=1, rmax=10)\n",
    "pcx.scatteringfactortable = SFTXray()\n",
    "\n",
    "pce = PDFCalculator(qmax=16.88, rmin=1, rmax=10)\n",
    "pce.scatteringfactortable = SFTElectron()\n",
    "\n",
    "from matplotlib.pyplot import *\n",
    "%matplotlib inline\n",
    "\n",
    "figure(1);\n",
    "plot(*pcx(cdseStructure), label='x-ray')\n",
    "plot(*pce(cdseStructure), label='electrons')\n",
    "legend();"
   ]
  }
 ],
 "metadata": {
  "kernelspec": {
   "display_name": "py37",
   "language": "python",
   "name": "python3"
  },
  "language_info": {
   "codemirror_mode": {
    "name": "ipython",
    "version": 3
   },
   "file_extension": ".py",
   "mimetype": "text/x-python",
   "name": "python",
   "nbconvert_exporter": "python",
   "pygments_lexer": "ipython3",
   "version": "3.7.16"
  }
 },
 "nbformat": 4,
 "nbformat_minor": 2
}
