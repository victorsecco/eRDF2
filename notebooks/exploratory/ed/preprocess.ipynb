{
 "cells": [
  {
   "cell_type": "code",
   "execution_count": 1,
   "metadata": {},
   "outputs": [
    {
     "name": "stderr",
     "output_type": "stream",
     "text": [
      "WARNING:silx.opencl.common:The module pyOpenCL has been imported but can't be used here\n"
     ]
    }
   ],
   "source": [
    "import h5py\n",
    "import hyperspy.api as hs \n",
    "import os\n",
    "\n",
    "root = \"/home/ABTLUS/victor.secco/data_processing/ED/CdSe_ePDF/P5/\"\n",
    "\n",
    "raw_data = hs.load(os.path.join(root, \"ROIS/ROI-1_1.ser\"), signal_type='diffraction', lazy = True)"
   ]
  },
  {
   "cell_type": "code",
   "execution_count": 2,
   "metadata": {},
   "outputs": [],
   "source": [
    "import numpy as np\n",
    "\n",
    "data_array = np.array(raw_data)"
   ]
  },
  {
   "cell_type": "code",
   "execution_count": 3,
   "metadata": {},
   "outputs": [],
   "source": [
    "with h5py.File(os.path.join(root, \"cdse_P5.h5\"), \"w\") as hdf:\n",
    "    raw_data_group = hdf.create_group(\"raw_data\")\n",
    "    raw_data_group.create_dataset(\"diffraction_data\", data=data_array)"
   ]
  }
 ],
 "metadata": {
  "kernelspec": {
   "display_name": "Python 3",
   "language": "python",
   "name": "python3"
  },
  "language_info": {
   "codemirror_mode": {
    "name": "ipython",
    "version": 3
   },
   "file_extension": ".py",
   "mimetype": "text/x-python",
   "name": "python",
   "nbconvert_exporter": "python",
   "pygments_lexer": "ipython3",
   "version": "3.11.6"
  }
 },
 "nbformat": 4,
 "nbformat_minor": 2
}
