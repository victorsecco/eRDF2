{
 "cells": [
  {
   "cell_type": "code",
   "execution_count": null,
   "metadata": {},
   "outputs": [],
   "source": [
    "import sys\n",
    "sys.path.append('/home/ABTLUS/victor.secco/data_processing/') \n",
    "import os\n",
    "import numpy as np\n",
    "import matplotlib.pyplot as plt\n",
    "import pyFAI\n",
    "from mypackages.edp_processing import ImageAnalysis, ImageProcessing, peak_calibration\n",
    "import hyperspy.api as hs"
   ]
  },
  {
   "cell_type": "code",
   "execution_count": null,
   "metadata": {},
   "outputs": [],
   "source": [
    "#Load .ser data\n",
    "directory = '/home/ABTLUS/victor.secco/data_processing/ED/Fe3O4/Maghemite/Fe2O3_OAm/ROIS'\n",
    "names = [x for x in os.listdir(directory) if x.endswith('.ser')] \n",
    "\n",
    "file_path = os.path.join(directory, names[2])\n",
    "data = hs.load(file_path, signal_type='diffraction', lazy=True)\n",
    "imgs = np.array(data)\n",
    "img= imgs[5]"
   ]
  },
  {
   "cell_type": "code",
   "execution_count": null,
   "metadata": {},
   "outputs": [],
   "source": [
    "del data \n",
    "del imgs"
   ]
  },
  {
   "cell_type": "code",
   "execution_count": null,
   "metadata": {},
   "outputs": [],
   "source": [
    "analysis = ImageAnalysis()\n",
    "#The outputs are all \n",
    "center_x, center_y, r  = analysis.find_center(img, r = 1, #smallest radius\n",
    "                                                            R = 5000, #biggest radius\n",
    "                                                            threshold = 100, #threshold applied to the difratogram\n",
    "                                                            edges_thresh1 = 255, #canny edge detector threshold\n",
    "                                                            edges_thresh2 = 10)  #canny edge detector threshold\n",
    "\n",
    "\n",
    "square_size = 512  # Adjust to your desired size\n",
    "\n",
    "# Ensure the square stays within bounds\n",
    "top = max(0, center_y - square_size)  # Top boundary\n",
    "bottom = center_y  # Bottom boundary is the center_y coordinate\n",
    "left = max(0, center_x - square_size // 2)  # Left boundary\n",
    "right = min(4096, center_x + square_size // 2)  # Right boundary\n",
    "\n",
    "# Slice the square region above the point\n",
    "sliced_square = img[top:bottom, left:right]\n",
    "\n",
    "line_x = sliced_square.shape[1] // 2  # Midpoint of the height\n",
    "\n",
    "# Extract the line profile (horizontal line)\n",
    "line_profile = sliced_square[:, line_x]\n",
    "\n",
    "plt.figure(figsize=(8, 8))\n",
    "plt.imshow(sliced_square, cmap='gray', origin='upper')\n",
    "plt.axvline(x=line_x, color='red', linestyle='--', label=f\"Line Profile at y={line_y}\")\n",
    "plt.colorbar(label='Intensity')\n",
    "plt.title('Sliced Square Image with Line Overlay')\n",
    "plt.xlabel('X Pixels')\n",
    "plt.ylabel('Y Pixels')\n",
    "plt.legend()\n",
    "plt.show()\n",
    "\n",
    "\n",
    "# Plot the line profile\n",
    "plt.figure(figsize=(8, 4))\n",
    "plt.plot(line_profile, label=f\"Line Profile at y={line_x}\", color='red')\n",
    "plt.xlabel('Pixel Index')\n",
    "plt.ylabel('Intensity')\n",
    "plt.title('Line Profile')\n",
    "plt.legend()\n",
    "plt.grid(True)\n",
    "plt.show()"
   ]
  },
  {
   "cell_type": "code",
   "execution_count": null,
   "metadata": {},
   "outputs": [],
   "source": [
    "start_x, end_x = 412, 512\n",
    "\n",
    "# Slice the line profile for the interval\n",
    "line_profile_interval = line_profile[start_x:end_x]\n",
    "\n",
    "# Differentiate the sliced line profile\n",
    "differentiated_profile = np.gradient(line_profile_interval)\n",
    "\n",
    "# Plot the sliced profile and its derivative\n",
    "plt.figure(figsize=(8, 4))\n",
    "plt.plot(range(start_x, end_x), abs(differentiated_profile), label=\"Differentiated Profile\", linestyle='--')\n",
    "plt.xlabel('Pixel Index')\n",
    "plt.ylabel('Intensity / Gradient')\n",
    "plt.title('Line Profile and Its Derivative (x = 412 to 512)')\n",
    "plt.legend()\n",
    "plt.grid(True)\n",
    "plt.show()"
   ]
  },
  {
   "cell_type": "code",
   "execution_count": null,
   "metadata": {},
   "outputs": [],
   "source": [
    "# Define zero-padding length\n",
    "original_fourier_transform = np.fft.fft(differentiated_profile)\n",
    "original_frequencies = np.fft.fftfreq(len(differentiated_profile))\n",
    "original_amplitudes = np.abs(original_fourier_transform[:len(original_frequencies) // 2])\n",
    "original_amplitudes_normalized = original_amplitudes / np.max(original_amplitudes)\n",
    "original_positive_frequencies = original_frequencies[:len(original_frequencies) // 2]\n",
    "\n",
    "# Zero-padding to length 512\n",
    "padded_length = 512\n",
    "padded_profile = np.pad(differentiated_profile, (0, padded_length - len(differentiated_profile)), 'constant')\n",
    "padded_fourier_transform = np.fft.fft(padded_profile)\n",
    "padded_frequencies = np.fft.fftfreq(len(padded_profile))\n",
    "padded_amplitudes = np.abs(padded_fourier_transform[:len(padded_frequencies) // 2])\n",
    "padded_amplitudes_normalized = padded_amplitudes / np.max(padded_amplitudes)\n",
    "padded_positive_frequencies = padded_frequencies[:len(padded_frequencies) // 2]\n",
    "\n",
    "# Plot for comparison\n",
    "plt.figure(figsize=(10, 6))\n",
    "plt.plot(original_positive_frequencies, original_amplitudes_normalized, label=\"Original (Unpadded)\", linestyle=\"--\")\n",
    "plt.plot(padded_positive_frequencies, padded_amplitudes_normalized, label=\"512-Padded\", linestyle=\"-\")\n",
    "plt.xlabel('Frequency (arbitrary units)')\n",
    "plt.ylabel('Normalized Amplitude')\n",
    "plt.title('Comparison of Original and 512-Padded FFT Profiles')\n",
    "plt.legend()\n",
    "plt.grid(True)\n",
    "plt.show()\n"
   ]
  }
 ],
 "metadata": {
  "kernelspec": {
   "display_name": "Python 3",
   "language": "python",
   "name": "python3"
  },
  "language_info": {
   "name": "python",
   "version": "3.11.6"
  }
 },
 "nbformat": 4,
 "nbformat_minor": 2
}
