{
 "cells": [
  {
   "cell_type": "code",
   "execution_count": null,
   "id": "e7a6f046",
   "metadata": {},
   "outputs": [],
   "source": [
    "import Dans_Diffraction as dif\n",
    "import numpy as np\n",
    "import pandas as pd\n",
    "\n",
    "xtl = dif.Crystal(r\"E:\\data_processing\\data\\crystallographic_db\\Fe3O4_1513304.cif\")\n",
    "\n",
    "xtl.Scatter.setup_scatter(scattering_type='electron', energy_kev=200, min_twotheta=0.1, max_twotheta=10)\n",
    "\n",
    "# Get full reflection list\n",
    "reflections = xtl.Scatter.get_hkl()\n",
    "transmission = xtl.hkl_transmission(reflections)\n",
    "q_mag = xtl.Cell.Qmag(reflections)\n",
    "F2 = xtl.Scatter.electron(reflections)\n",
    "\n",
    "# Set desired Q max in Å⁻¹\n",
    "Q_max = 10.0\n",
    "\n",
    "# Filter based on Q\n",
    "mask = q_mag <= Q_max\n",
    "hkl_filtered = reflections[mask]\n",
    "q_filtered = q_mag[mask]\n",
    "f2_filtered = F2[mask]\n",
    "\n",
    "# Convert to DataFrame\n",
    "df = pd.DataFrame(hkl_filtered, columns=[\"h\", \"k\", \"l\"])\n",
    "df[\"Q\"] = q_filtered\n",
    "df[\"F2\"] = f2_filtered\n",
    "\n",
    "df_nonzero = df[df[\"F2\"] > 1e-5]\n",
    "\n",
    "# Optional: reset index\n",
    "df_nonzero = df_nonzero.reset_index(drop=True)\n",
    "\n",
    "df_unique = df.groupby(df_nonzero[\"Q\"].round(5), as_index=False).apply(lambda g: g.loc[g[\"F2\"].idxmax()])\n",
    "df_unique.reset_index(drop=True, inplace=True)\n",
    "\n",
    "df_unique"
   ]
  }
 ],
 "metadata": {
  "language_info": {
   "name": "python"
  }
 },
 "nbformat": 4,
 "nbformat_minor": 5
}
