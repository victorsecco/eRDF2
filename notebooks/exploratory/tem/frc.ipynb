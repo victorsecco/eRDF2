{
 "cells": [
  {
   "cell_type": "code",
   "execution_count": null,
   "metadata": {},
   "outputs": [],
   "source": [
    "fshift = np.fft.fftshift(np.fft.fft2(all_images[3]))\n",
    "fft = np.log(np.abs(fshift))\n",
    "fshift1 = np.fft.fftshift(np.fft.fft2(normalized_images[3]))\n",
    "fft1 = np.log(np.abs(fshift1))\n",
    "\n",
    "\n",
    "def calculate_frc(f1, f2):\n",
    "    num = np.sum(np.conj(f1) * f2)\n",
    "    den = np.sqrt(np.sum(np.abs(f1)**2) * np.sum(np.abs(f2)**2))\n",
    "    return np.abs(num) / den\n",
    "\n",
    "# Example calculation for a specific frequency band\n",
    "# In practice, you would loop over several bands\n",
    "frc_value = calculate_frc(fshift, fshift1)\n",
    "print(f\"FRC value: {frc_value}\")\n",
    "\n",
    "\n",
    "f, ax = plt.subplots(1,2 , figsize = (20, 10))\n",
    "ax[0].imshow(fft)\n",
    "ax[1].imshow(fft1)"
   ]
  }
 ],
 "metadata": {
  "language_info": {
   "name": "python"
  }
 },
 "nbformat": 4,
 "nbformat_minor": 2
}
