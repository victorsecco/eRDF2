{
 "cells": [
  {
   "cell_type": "code",
   "execution_count": null,
   "metadata": {},
   "outputs": [],
   "source": [
    "import pandas as pd\n",
    "\n",
    "df = pd.read_csv(\"/content/Dados-1.txt\", sep = \",\", header = None, skiprows=2)\n",
    "df\n",
    "x = df[0].values\n",
    "y = df[4].values\n",
    "#y2 = df[4].values\n",
    "\n",
    "#x = x[400:]\n",
    "#y = y[400:]"
   ]
  },
  {
   "cell_type": "code",
   "execution_count": null,
   "metadata": {},
   "outputs": [],
   "source": [
    "import pandas as pd\n",
    "import numpy as np\n",
    "from scipy.signal import find_peaks, peak_widths\n",
    "\n",
    "# Find peaks\n",
    "peaks, _ = find_peaks(y, height=300)  # finding the peaks in y-data\n",
    "\n",
    "# Calculate FWHM using scipy's peak_widths which returns the widths at half prominence\n",
    "results_half = peak_widths(y, peaks, rel_height=0.5)\n",
    "\n",
    "# Extract data\n",
    "peak_positions = x[peaks]  # Peak positions\n",
    "fwhm_values = results_half[0] * np.diff(x)[0]  # Convert indices to x-values by multiplying with x-spacing\n",
    "\n",
    "# Print results\n",
    "#print(\"Peak Positions:\", peak_positions)\n",
    "#print(\"FWHM Values:\", fwhm_values)\n",
    "\n",
    "real_peaks = peaks[1::]\n",
    "# Optionally: Plot results to visualize\n",
    "import matplotlib.pyplot as plt\n",
    "plt.plot(x, y)\n",
    "plt.plot(x[real_peaks], y[real_peaks], \"x\")\n",
    "#plt.xlim(0,60)\n",
    "#plt.hlines(*results_half[1:], xmin=x[0], xmax=x[-1])\n",
    "plt.show()"
   ]
  },
  {
   "cell_type": "code",
   "execution_count": null,
   "metadata": {},
   "outputs": [],
   "source": [
    "data = pd.DataFrame({\n",
    "    'posição': peak_positions,\n",
    "    'fwhm': fwhm_values\n",
    "})\n",
    "\n",
    "\n",
    "data.to_csv('al2o3_na.csv')"
   ]
  },
  {
   "cell_type": "code",
   "execution_count": null,
   "metadata": {},
   "outputs": [],
   "source": [
    "from scipy.stats import linregress\n",
    "\n",
    "#theta = np.radians(peak_positions[::2])/2\n",
    "#fwhm_values = np.radians(fwhm_values[::2]/2)\n",
    "\n",
    "sin_theta = np.sin(theta)\n",
    "beta_cos_theta = (fwhm_values)*np.cos(theta)\n",
    "\n",
    "slope, intercept, r_value, p_value, std_err = linregress(sin_theta, beta_cos_theta)\n",
    "line = slope * sin_theta + intercept\n",
    "\n",
    "# Print the results\n",
    "print(f\"Equation of the line: y = {slope:.2f}x + {intercept:.2f}\")\n",
    "print(f\"R-squared: {r_value**2:.2f}\")\n",
    "\n",
    "# Plotting the data and the fitted line\n",
    "plt.scatter(sin_theta, beta_cos_theta, color='blue', label='Experimental data')\n",
    "plt.plot(sin_theta, line, color='red', label=f'Fitted line: y = {slope:.5f}x + {intercept:.6f}')\n",
    "plt.xlabel(r\"sin($\\dot{\\theta})$\")\n",
    "plt.ylabel(r\"$\\dot{\\beta}cos(\\dot{\\theta})$\")\n",
    "plt.title('Linear Regression Fit')\n",
    "plt.legend()\n",
    "plt.tight_layout()\n",
    "plt.savefig(\"Williamson_Hall_plot.png\")\n",
    "plt.show()\n"
   ]
  }
 ],
 "metadata": {
  "language_info": {
   "name": "python"
  }
 },
 "nbformat": 4,
 "nbformat_minor": 2
}
