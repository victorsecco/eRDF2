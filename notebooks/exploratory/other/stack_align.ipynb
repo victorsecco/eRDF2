{
 "cells": [
  {
   "cell_type": "code",
   "execution_count": 1,
   "metadata": {},
   "outputs": [],
   "source": [
    "import os\n",
    "import sys\n",
    "sys.path.append('/home/ABTLUS/victor.secco/data_processing')\n",
    "from mypackages.edp_processing import ImageProcessing \n",
    "import matplotlib.pyplot as plt"
   ]
  },
  {
   "cell_type": "code",
   "execution_count": 5,
   "metadata": {},
   "outputs": [],
   "source": [
    "PATH = '/home/ABTLUS/victor.secco/data_processing/Lorentz_data/Au 0.5%'\n",
    "\n",
    "\n",
    "process = ImageProcessing(PATH)\n",
    "x,names = process.load_images(3)"
   ]
  },
  {
   "cell_type": "code",
   "execution_count": 20,
   "metadata": {},
   "outputs": [],
   "source": [
    "from pystackreg import StackReg\n",
    "out_previous = StackReg(StackReg.TRANSLATION).register_transform_stack(x, reference='previous')"
   ]
  },
  {
   "cell_type": "code",
   "execution_count": 21,
   "metadata": {},
   "outputs": [
    {
     "name": "stdout",
     "output_type": "stream",
     "text": [
      "Saved 3 images as /home/ABTLUS/victor.secco/data_processing/Lorentz_data/Au 0.5%/Au_0.5%.tif\n"
     ]
    }
   ],
   "source": [
    "from PIL import Image\n",
    "import numpy as np\n",
    "\n",
    "# Convert the stacked NumPy array to a list of PIL images\n",
    "def numpy_to_pil_images(np_array):\n",
    "    images = []\n",
    "    for i in range(np_array.shape[0]):\n",
    "        img = Image.fromarray(np_array[i])\n",
    "        images.append(img)\n",
    "    return images\n",
    "\n",
    "# Convert the stacked array to PIL images\n",
    "pil_images = numpy_to_pil_images(out_previous)\n",
    "\n",
    "# Save the list of PIL images as a multi-page TIFF\n",
    "output_path = os.path.join(PATH,\"Au_0.5%.tif\" )\n",
    "\n",
    "if pil_images:\n",
    "    pil_images[0].save(output_path, save_all=True, append_images=pil_images[1:], compression='tiff_deflate')\n",
    "    print(f\"Saved {len(pil_images)} images as {output_path}\")\n",
    "else:\n",
    "    print(\"No images found in the specified array.\")\n"
   ]
  },
  {
   "cell_type": "code",
   "execution_count": 66,
   "metadata": {},
   "outputs": [
    {
     "data": {
      "text/plain": [
       "4096"
      ]
     },
     "execution_count": 66,
     "metadata": {},
     "output_type": "execute_result"
    }
   ],
   "source": [
    "len(pil_images)"
   ]
  },
  {
   "cell_type": "code",
   "execution_count": 56,
   "metadata": {},
   "outputs": [
    {
     "data": {
      "text/plain": [
       "'/home/ABTLUS/victor.secco/data_processing/Lorentz/Crossgrating/ROI-1/Stacked Crossgrating Camera Ceta 21000 x Ceta.tif'"
      ]
     },
     "execution_count": 56,
     "metadata": {},
     "output_type": "execute_result"
    }
   ],
   "source": [
    "os.path.join(PATH,\"Stacked Crossgrating Camera Ceta 21000 x Ceta.tif\" )"
   ]
  }
 ],
 "metadata": {
  "kernelspec": {
   "display_name": "Python 3",
   "language": "python",
   "name": "python3"
  },
  "language_info": {
   "codemirror_mode": {
    "name": "ipython",
    "version": 3
   },
   "file_extension": ".py",
   "mimetype": "text/x-python",
   "name": "python",
   "nbconvert_exporter": "python",
   "pygments_lexer": "ipython3",
   "version": "3.11.6"
  }
 },
 "nbformat": 4,
 "nbformat_minor": 2
}
