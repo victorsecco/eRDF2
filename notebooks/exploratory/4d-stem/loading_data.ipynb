{
 "cells": [
  {
   "cell_type": "code",
   "execution_count": 2,
   "id": "ba6722ea-9a0a-4689-be2b-44cc7645512f",
   "metadata": {},
   "outputs": [],
   "source": [
    "import hyperspy.api as hs\n",
    "import matplotlib.pyplot as plt\n",
    "from PIL import Image\n",
    "import numpy as np\n",
    "import os\n",
    "import py4DSTEM\n",
    "from py4DSTEM.io import filereaders\n",
    "from py4DSTEM.visualize import show\n",
    "from xml.dom import minidom"
   ]
  },
  {
   "cell_type": "code",
   "execution_count": 10,
   "id": "37950c49-d054-45de-82e3-a3a5d977dfd4",
   "metadata": {},
   "outputs": [
    {
     "ename": "AssertionError",
     "evalue": "Error: EMPAD Reader does not support metadata.",
     "output_type": "error",
     "traceback": [
      "\u001b[0;31m---------------------------------------------------------------------------\u001b[0m",
      "\u001b[0;31mAssertionError\u001b[0m                            Traceback (most recent call last)",
      "Cell \u001b[0;32mIn[10], line 1\u001b[0m\n\u001b[0;32m----> 1\u001b[0m datacube \u001b[38;5;241m=\u001b[39m \u001b[43mfilereaders\u001b[49m\u001b[38;5;241;43m.\u001b[39;49m\u001b[43mempad\u001b[49m\u001b[38;5;241;43m.\u001b[39;49m\u001b[43mread_empad\u001b[49m\u001b[43m(\u001b[49m\u001b[38;5;124;43m'\u001b[39;49m\u001b[38;5;124;43mscan_x256_y256.raw\u001b[39;49m\u001b[38;5;124;43m'\u001b[39;49m\u001b[43m,\u001b[49m\u001b[43m \u001b[49m\u001b[43mmem\u001b[49m\u001b[38;5;241;43m=\u001b[39;49m\u001b[38;5;124;43m'\u001b[39;49m\u001b[38;5;124;43mRAM\u001b[39;49m\u001b[38;5;124;43m'\u001b[39;49m\u001b[43m,\u001b[49m\u001b[43m \u001b[49m\u001b[43mbinfactor\u001b[49m\u001b[38;5;241;43m=\u001b[39;49m\u001b[38;5;241;43m1\u001b[39;49m\u001b[43m,\u001b[49m\u001b[43m \u001b[49m\u001b[43mmetadata\u001b[49m\u001b[38;5;241;43m=\u001b[39;49m\u001b[38;5;28;43;01mTrue\u001b[39;49;00m\u001b[43m)\u001b[49m\n",
      "File \u001b[0;32m~/hyperspy-bundle/lib/python3.11/site-packages/py4DSTEM/io/filereaders/empad.py:42\u001b[0m, in \u001b[0;36mread_empad\u001b[0;34m(filename, mem, binfactor, metadata, **kwargs)\u001b[0m\n\u001b[1;32m     40\u001b[0m \u001b[38;5;28;01massert\u001b[39;00m \u001b[38;5;28misinstance\u001b[39m(binfactor, \u001b[38;5;28mint\u001b[39m), \u001b[38;5;124m\"\u001b[39m\u001b[38;5;124mError: argument binfactor must be an integer\u001b[39m\u001b[38;5;124m\"\u001b[39m\n\u001b[1;32m     41\u001b[0m \u001b[38;5;28;01massert\u001b[39;00m binfactor \u001b[38;5;241m>\u001b[39m\u001b[38;5;241m=\u001b[39m \u001b[38;5;241m1\u001b[39m, \u001b[38;5;124m\"\u001b[39m\u001b[38;5;124mError: binfactor must be >= 1\u001b[39m\u001b[38;5;124m\"\u001b[39m\n\u001b[0;32m---> 42\u001b[0m \u001b[38;5;28;01massert\u001b[39;00m metadata \u001b[38;5;129;01mis\u001b[39;00m \u001b[38;5;28;01mFalse\u001b[39;00m, \u001b[38;5;124m\"\u001b[39m\u001b[38;5;124mError: EMPAD Reader does not support metadata.\u001b[39m\u001b[38;5;124m\"\u001b[39m\n\u001b[1;32m     44\u001b[0m row \u001b[38;5;241m=\u001b[39m \u001b[38;5;241m130\u001b[39m\n\u001b[1;32m     45\u001b[0m col \u001b[38;5;241m=\u001b[39m \u001b[38;5;241m128\u001b[39m\n",
      "\u001b[0;31mAssertionError\u001b[0m: Error: EMPAD Reader does not support metadata."
     ]
    }
   ],
   "source": [
    "datacube = filereaders.empad.read_empad('scan_x256_y256.raw', mem='RAM', binfactor=1, metadata=False)"
   ]
  },
  {
   "cell_type": "code",
   "execution_count": 5,
   "id": "14116951-986a-4f49-8291-8aec9589f098",
   "metadata": {},
   "outputs": [],
   "source": [
    "datacube = py4DSTEM.read(\n",
    "    filepath = 'scan_x256_y256_preprocessed_filtered_bin4.h5'\n",
    ")"
   ]
  },
  {
   "cell_type": "code",
   "execution_count": 8,
   "id": "6488c302-d7cd-4b8f-a4a8-4d2c4642a4b5",
   "metadata": {},
   "outputs": [
    {
     "name": "stdout",
     "output_type": "stream",
     "text": [
      "The first dimension:\n",
      "  - dimension name: Rx\n",
      "  - dimension units: pixels\n",
      "  - dim vector: [0 1 2 3 4 5 6 7 8 9]\n",
      "\n",
      "The third dimension:\n",
      "  - dimension name: Qx\n",
      "  - dimension units: pixels\n",
      "  - dim vector: [0 1 2 3 4 5 6 7 8 9]\n",
      "\n",
      "\n",
      "The diffraction space pixels are each 1.0000 pixels\n",
      "The real space pixels are each 1.0000 pixels\n",
      "(256, 256, 128, 128)\n",
      "(256, 256, 128, 128)\n",
      "(256, 256)\n",
      "(128, 128)\n"
     ]
    }
   ],
   "source": [
    "print('The first dimension:')\n",
    "print(f'  - dimension name: {datacube.dim_names[0]}')\n",
    "print(f'  - dimension units: {datacube.dim_units[0]}')\n",
    "print(f'  - dim vector: {datacube.dims[0][:10]}') # note the `[:10]` - we're only displaying the first 10 entries\n",
    "print()\n",
    "print('The third dimension:')\n",
    "print(f'  - dimension name: {datacube.dim_names[2]}')\n",
    "print(f'  - dimension units: {datacube.dim_units[2]}')\n",
    "print(f'  - dim vector: {datacube.dims[2][:10]}')\n",
    "\n",
    "print()\n",
    "\n",
    "# pixel sizes -\n",
    "qpix = datacube.calibration.get_Q_pixel_size()\n",
    "qpixunit = datacube.calibration.get_Q_pixel_units()\n",
    "rpix = datacube.calibration.get_R_pixel_size()\n",
    "rpixunit = datacube.calibration.get_R_pixel_units()\n",
    "print()\n",
    "print(f\"The diffraction space pixels are each {qpix:.4f} {qpixunit}\")\n",
    "print(f\"The real space pixels are each {rpix:.4f} {rpixunit}\")\n",
    "print(datacube.data.shape)\n",
    "print(datacube.shape)\n",
    "print(datacube.Rshape)\n",
    "print(datacube.Qshape)"
   ]
  },
  {
   "cell_type": "code",
   "execution_count": 9,
   "id": "8efc3533-bfc7-47ac-bda3-c07e93104d88",
   "metadata": {},
   "outputs": [
    {
     "data": {
      "text/plain": [
       "Calibration( A Metadata instance called 'calibration', containing the following fields:\n",
       "\n",
       "             Q_pixel_size:    1\n",
       "             R_pixel_size:    1\n",
       "             Q_pixel_units:   pixels\n",
       "             R_pixel_units:   pixels\n",
       "             QR_flip:         False\n",
       ")"
      ]
     },
     "execution_count": 9,
     "metadata": {},
     "output_type": "execute_result"
    }
   ],
   "source": [
    "datacube.calibration.set_R_pixel_size(5)\n",
    "datacube.calibration.set_R_pixel_units('nm')\n",
    "\n",
    "datacube.calibration"
   ]
  },
  {
   "cell_type": "code",
   "execution_count": 19,
   "id": "4f402dbe-ed78-44cc-8e85-982e54674274",
   "metadata": {},
   "outputs": [
    {
     "name": "stderr",
     "output_type": "stream",
     "text": [
      "Cleaning pixels: 100%|██████████| 65536/65536 [00:05<00:00, 12534.28 images/s]\n"
     ]
    },
    {
     "data": {
      "text/plain": [
       "DataCube( A 4-dimensional array of shape (256, 256, 128, 128) called 'datacube',\n",
       "          with dimensions:\n",
       "\n",
       "              Rx = [0,1,2,...] pixels\n",
       "              Ry = [0,1,2,...] pixels\n",
       "              Qx = [0,1,2,...] pixels\n",
       "              Qy = [0,1,2,...] pixels\n",
       ")"
      ]
     },
     "execution_count": 19,
     "metadata": {},
     "output_type": "execute_result"
    }
   ],
   "source": [
    "datacube.filter_hot_pixels(\n",
    "    thresh = 8\n",
    ")"
   ]
  },
  {
   "cell_type": "code",
   "execution_count": 23,
   "id": "5bd4a874-a928-4cba-a7c3-125312512174",
   "metadata": {},
   "outputs": [
    {
     "name": "stdout",
     "output_type": "stream",
     "text": [
      "scan_x256_y256_preprocessed_filtered_bin4.h5\n"
     ]
    }
   ],
   "source": [
    "filepath_data = 'scan_x256_y256.raw'\n",
    "datacube.bin_Q(4)\n",
    "from os.path import splitext\n",
    "filepath_save = splitext(filepath_data)[0] + '_preprocessed_filtered_bin4.h5'\n",
    "\n",
    "print(filepath_save)\n",
    "\n",
    "py4DSTEM.save(\n",
    "    filepath_save,\n",
    "    datacube,\n",
    "    mode = 'o'    # 'overwrite' mode\n",
    ")"
   ]
  },
  {
   "cell_type": "code",
   "execution_count": null,
   "id": "56fc9266-c5bb-43d1-8901-e50acf4b5a9e",
   "metadata": {},
   "outputs": [],
   "source": []
  },
  {
   "cell_type": "code",
   "execution_count": 18,
   "id": "71fa68c2-f9f4-48bb-a6e0-a17410289da6",
   "metadata": {},
   "outputs": [
    {
     "name": "stdout",
     "output_type": "stream",
     "text": [
      "timestamp {'timestamp': '1706196307.129306', 'isoformat': '2024-01-25T13:25:07.129306'}\n",
      "software_version {}\n",
      "reconstructions {'Sentinel': 'Test  '}\n",
      "reconstruction None\n",
      "reconstruction None\n",
      "reconstruction None\n",
      "reconstruction None\n",
      "reconstruction None\n",
      "reconstruction None\n",
      "reconstruction None\n",
      "raw_file {'filename': 'scan_x256_y256.raw'}\n",
      "background_image {'timestamp': '1706195461.9451', 'absolute_filename': ' /home/empad/backgrounds/img_exp_1_frm_0_cnt_1000_0002'}\n",
      "exposure_time {}\n",
      "post_exposure_time {}\n",
      "camserver_parameters {}\n",
      "camserver_connected True\n",
      "camserver_scan_enabled True\n",
      "camserver_poweron_done True\n",
      "camserver_video False\n",
      "camserver_poweron True\n",
      "camserver_acquisition_pending False\n",
      "camserver_inserted True\n",
      "camserver_scan_focus False\n",
      "scan_parameters {'mode': 'search'}\n",
      "scan_resolution_y 64\n",
      "scan_center_y 0.5\n",
      "scan_size 1.0\n",
      "scan_center_x 0.5\n",
      "scan_resolution_x 64\n",
      "scan_parameters {'mode': 'acquire'}\n",
      "scan_resolution_y 256\n",
      "scan_center_y 0.5\n",
      "scan_size 1.0\n",
      "scan_center_x 0.5\n",
      "scan_resolution_x 256\n",
      "reconstruction_parameters {}\n",
      "active_roimaskidx 0\n",
      "roimask None\n",
      "roimask None\n",
      "roimask None\n",
      "roimask None\n",
      "temperature_controller {}\n",
      "controller_enabled True\n",
      "temperature_setpoint -5.00\n",
      "temperature_value -5.00\n",
      "peltier_current -2.143\n",
      "grid_measurements {}\n",
      "controller_enabled True\n",
      "bias_setpoint 150\n",
      "bias_voltage 150.02\n",
      "bias_current 11.835\n",
      "iom_measurements {}\n",
      "scan_rotation 0.0\n",
      "is_column_in_stem_mode True\n",
      "spot_size_index 8\n",
      "full_scan_field_of_view None\n",
      "nominal_camera_length 0.1829\n",
      "high_voltage_state True\n",
      "high_voltage 300000.0\n",
      "vacuum_state Ready\n"
     ]
    }
   ],
   "source": [
    "import xml.etree.ElementTree as ET\n",
    "\n",
    "tree = ET.parse('condicao 1.xml')  # Replace 'your_file.xml' with your file path\n",
    "root = tree.getroot()\n",
    "\n",
    "for child in root:\n",
    "    print(child.tag, child.attrib)  # This will print the tag name and attributes of child elements\n",
    "\n",
    "    # If you're looking for specific data inside each element:\n",
    "    for subchild in child:\n",
    "        print(subchild.tag, subchild.text)  # This will print each subchild's tag and text content\n"
   ]
  },
  {
   "cell_type": "code",
   "execution_count": null,
   "id": "e7792c92-cbd2-4a64-ab59-4af9c5f5b222",
   "metadata": {},
   "outputs": [],
   "source": []
  }
 ],
 "metadata": {
  "kernelspec": {
   "display_name": "Python 3 (ipykernel)",
   "language": "python",
   "name": "python3"
  },
  "language_info": {
   "codemirror_mode": {
    "name": "ipython",
    "version": 3
   },
   "file_extension": ".py",
   "mimetype": "text/x-python",
   "name": "python",
   "nbconvert_exporter": "python",
   "pygments_lexer": "ipython3",
   "version": "3.11.6"
  }
 },
 "nbformat": 4,
 "nbformat_minor": 5
}
