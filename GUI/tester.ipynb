{
 "cells": [
  {
   "cell_type": "code",
   "execution_count": 1,
   "id": "2c386bd9",
   "metadata": {},
   "outputs": [
    {
     "name": "stderr",
     "output_type": "stream",
     "text": [
      "c:\\Users\\seccolev\\eRDF2\\GUI\\mypackages\\eRDF.py:230: SyntaxWarning: invalid escape sequence '\\A'\n",
      "  ax[0].set_xlabel(\"Q ($\\AA^{-1}$)\")\n",
      "c:\\Users\\seccolev\\eRDF2\\GUI\\mypackages\\eRDF.py:236: SyntaxWarning: invalid escape sequence '\\p'\n",
      "  ax[1].plot(self.q, fq, label=\"$\\phi(Q)$\")\n",
      "c:\\Users\\seccolev\\eRDF2\\GUI\\mypackages\\eRDF.py:237: SyntaxWarning: invalid escape sequence '\\A'\n",
      "  ax[1].set_xlabel(\"Q ($\\AA^{-1}$)\")\n",
      "c:\\Users\\seccolev\\eRDF2\\GUI\\mypackages\\eRDF.py:238: SyntaxWarning: invalid escape sequence '\\p'\n",
      "  ax[1].set_ylabel(\"$\\phi(Q)$\")\n",
      "c:\\Users\\seccolev\\eRDF2\\GUI\\mypackages\\eRDF.py:239: SyntaxWarning: invalid escape sequence '\\p'\n",
      "  ax[1].set_title(\"Calculating $\\phi(Q)$\")\n",
      "c:\\Users\\seccolev\\eRDF2\\GUI\\mypackages\\eRDF.py:245: SyntaxWarning: invalid escape sequence '\\A'\n",
      "  ax[2].set_xlabel(\"r ($\\AA$)\")\n"
     ]
    }
   ],
   "source": [
    "from mypackages.eRDF import DataProcessor\n",
    "import pandas as pd\n",
    "import os\n",
    "import numpy as np \n",
    "import math"
   ]
  },
  {
   "cell_type": "code",
   "execution_count": 2,
   "id": "0ca07375",
   "metadata": {},
   "outputs": [],
   "source": [
    "def test_calculate_fq_gq_against_reference(dp: DataProcessor, reference_file: str) -> None:\n",
    "    \"\"\"\n",
    "    Compares the outputs of calculate_fq_gq() to a saved reference.\n",
    "\n",
    "    Args:\n",
    "        dp (DataProcessor): An instance of the DataProcessor class.\n",
    "        reference_file (str): Path to the .npz file with reference fq_sq, gq, fqfit, iqfit.\n",
    "\n",
    "    Raises:\n",
    "        AssertionError: If any of the outputs differ beyond floating point tolerance.\n",
    "    \"\"\"\n",
    "    # Load reference\n",
    "    ref = np.load(reference_file)\n",
    "\n",
    "    # Get new results\n",
    "    fq_sq, gq, fqfit, iqfit = dp.calculate_fq_gq()\n",
    "\n",
    "    # Compare arrays\n",
    "    assert np.allclose(fq_sq, ref[\"fq_sq\"]), \"Mismatch in fq_sq\"\n",
    "    assert np.allclose(gq, ref[\"gq\"]), \"Mismatch in gq\"\n",
    "    assert np.isclose(fqfit, ref[\"fqfit\"]), f\"Mismatch in fqfit: {fqfit} vs {ref['fqfit']}\"\n",
    "    assert np.isclose(iqfit, ref[\"iqfit\"]), f\"Mismatch in iqfit: {iqfit} vs {ref['iqfit']}\"\n",
    "\n",
    "    print(\"✅ calculate_fq_gq() passed the test against reference output.\")\n"
   ]
  },
  {
   "cell_type": "code",
   "execution_count": 3,
   "id": "700ccd65",
   "metadata": {},
   "outputs": [
    {
     "name": "stderr",
     "output_type": "stream",
     "text": [
      "c:\\Users\\seccolev\\eRDF2\\GUI\\mypackages\\eRDF.py:230: SyntaxWarning: invalid escape sequence '\\A'\n",
      "  ax[0].set_xlabel(\"Q ($\\AA^{-1}$)\")\n",
      "c:\\Users\\seccolev\\eRDF2\\GUI\\mypackages\\eRDF.py:236: SyntaxWarning: invalid escape sequence '\\p'\n",
      "  ax[1].plot(self.q, fq, label=\"$\\phi(Q)$\")\n",
      "c:\\Users\\seccolev\\eRDF2\\GUI\\mypackages\\eRDF.py:237: SyntaxWarning: invalid escape sequence '\\A'\n",
      "  ax[1].set_xlabel(\"Q ($\\AA^{-1}$)\")\n",
      "c:\\Users\\seccolev\\eRDF2\\GUI\\mypackages\\eRDF.py:238: SyntaxWarning: invalid escape sequence '\\p'\n",
      "  ax[1].set_ylabel(\"$\\phi(Q)$\")\n",
      "c:\\Users\\seccolev\\eRDF2\\GUI\\mypackages\\eRDF.py:239: SyntaxWarning: invalid escape sequence '\\p'\n",
      "  ax[1].set_title(\"Calculating $\\phi(Q)$\")\n",
      "c:\\Users\\seccolev\\eRDF2\\GUI\\mypackages\\eRDF.py:245: SyntaxWarning: invalid escape sequence '\\A'\n",
      "  ax[2].set_xlabel(\"r ($\\AA$)\")\n"
     ]
    },
    {
     "ename": "NameError",
     "evalue": "name 'os' is not defined",
     "output_type": "error",
     "traceback": [
      "\u001b[31m---------------------------------------------------------------------------\u001b[39m",
      "\u001b[31mNameError\u001b[39m                                 Traceback (most recent call last)",
      "\u001b[36mCell\u001b[39m\u001b[36m \u001b[39m\u001b[32mIn[3]\u001b[39m\u001b[32m, line 14\u001b[39m\n\u001b[32m     10\u001b[39m ds = (\u001b[32m0.00743649587727647\u001b[39m)/(\u001b[32m2\u001b[39m*math.pi)\n\u001b[32m     12\u001b[39m Au =  {\u001b[32m1\u001b[39m: [\u001b[32m79\u001b[39m, \u001b[32m1\u001b[39m]}\n\u001b[32m---> \u001b[39m\u001b[32m14\u001b[39m dp = \u001b[43mDataProcessor\u001b[49m\u001b[43m(\u001b[49m\u001b[43mdata\u001b[49m\u001b[43m,\u001b[49m\u001b[43m \u001b[49m\u001b[32;43m0.8\u001b[39;49m\u001b[43m,\u001b[49m\u001b[43m \u001b[49m\u001b[38;5;28;43;01mNone\u001b[39;49;00m\u001b[43m,\u001b[49m\u001b[43m \u001b[49m\u001b[43mstart\u001b[49m\u001b[43m,\u001b[49m\u001b[43m \u001b[49m\u001b[43mend\u001b[49m\u001b[43m,\u001b[49m\u001b[43m \u001b[49m\u001b[43mds\u001b[49m\u001b[43m,\u001b[49m\u001b[43m \u001b[49m\u001b[43mAu\u001b[49m\u001b[43m,\u001b[49m\u001b[43m \u001b[49m\u001b[32;43m0\u001b[39;49m\u001b[43m)\u001b[49m\n\u001b[32m     15\u001b[39m fq_sq_new, gq_new, fqfit_new, iqfit_new = dp.calculate_fq_gq()\n",
      "\u001b[36mFile \u001b[39m\u001b[32mc:\\Users\\seccolev\\eRDF2\\GUI\\mypackages\\eRDF.py:16\u001b[39m, in \u001b[36mDataProcessor.__init__\u001b[39m\u001b[34m(self, data, q0, lobato_path, start, end, ds, Elements, region)\u001b[39m\n\u001b[32m     14\u001b[39m \u001b[38;5;28mself\u001b[39m.end = end\n\u001b[32m     15\u001b[39m \u001b[38;5;28mself\u001b[39m.ds = ds\n\u001b[32m---> \u001b[39m\u001b[32m16\u001b[39m \u001b[38;5;28mself\u001b[39m.lobato = lobato_path \u001b[38;5;129;01mor\u001b[39;00m \u001b[43mos\u001b[49m.path.join(\u001b[33m\"\u001b[39m\u001b[33mdata\u001b[39m\u001b[33m\"\u001b[39m, \u001b[33m\"\u001b[39m\u001b[33mLobato_2014.txt\u001b[39m\u001b[33m\"\u001b[39m)\n\u001b[32m     17\u001b[39m \u001b[38;5;28mself\u001b[39m.region = region\n\u001b[32m     18\u001b[39m \u001b[38;5;28mself\u001b[39m.q0 = q0\n",
      "\u001b[31mNameError\u001b[39m: name 'os' is not defined"
     ]
    }
   ],
   "source": [
    "path = r\"C:\\Users\\seccolev\\data_processing\\data\\processed\\ePDF\\Au\\Au_start.csv\"\n",
    "\n",
    "df1 = pd.read_csv(path, header = None)\n",
    "\n",
    "data = df1[0].values\n",
    "\n",
    "start = int(data.shape[0]*0.03)\n",
    "end =  int(data.shape[0]*0.8)\n",
    "\n",
    "ds = (0.00743649587727647)/(2*math.pi)\n",
    "\n",
    "Au =  {1: [79, 1]}\n",
    "\n",
    "dp = DataProcessor(data, 0.8, None, start, end, ds, Au, 0)\n",
    "fq_sq_new, gq_new, fqfit_new, iqfit_new = dp.calculate_fq_gq()"
   ]
  },
  {
   "cell_type": "code",
   "execution_count": null,
   "id": "f0c2d79f",
   "metadata": {},
   "outputs": [],
   "source": []
  }
 ],
 "metadata": {
  "kernelspec": {
   "display_name": "epdf",
   "language": "python",
   "name": "python3"
  },
  "language_info": {
   "codemirror_mode": {
    "name": "ipython",
    "version": 3
   },
   "file_extension": ".py",
   "mimetype": "text/x-python",
   "name": "python",
   "nbconvert_exporter": "python",
   "pygments_lexer": "ipython3",
   "version": "3.13.2"
  }
 },
 "nbformat": 4,
 "nbformat_minor": 5
}
